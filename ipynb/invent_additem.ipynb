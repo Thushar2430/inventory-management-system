{
 "cells": [
  {
   "cell_type": "code",
   "execution_count": 3,
   "metadata": {},
   "outputs": [],
   "source": [
    "import json"
   ]
  },
  {
   "cell_type": "code",
   "execution_count": 4,
   "metadata": {},
   "outputs": [],
   "source": [
    "f=open('plist.json','r')\n",
    "r=f.read()\n",
    "f.close()\n",
    "products=json.loads(r)"
   ]
  },
  {
   "cell_type": "code",
   "execution_count": 5,
   "metadata": {},
   "outputs": [
    {
     "name": "stdout",
     "output_type": "stream",
     "text": [
      "Enter number of items to enter:4\n"
     ]
    }
   ],
   "source": [
    "item_count=int(input('Enter number of items to enter:'))\n",
    "max_item=len(products)+item_count"
   ]
  },
  {
   "cell_type": "code",
   "execution_count": 6,
   "metadata": {},
   "outputs": [
    {
     "name": "stdout",
     "output_type": "stream",
     "text": [
      "Enter product name:Britannia Little Hearts Biscuits\n",
      "Enter price:16\n",
      "Enter qty:100\n",
      "Enter expiry:JUL 22\n",
      "Enter product name:Britannia 50-50 Maska Chaska Biscuits\n",
      "Enter price:23\n",
      "Enter qty:100\n",
      "Enter expiry:JUL 22\n",
      "Enter product name:Lotte Choco Pie\n",
      "Enter price:120\n",
      "Enter qty:100\n",
      "Enter expiry:JUL 22\n",
      "Enter product name:Britannia Treat Jim Jam Biscuits\n",
      "Enter price:31\n",
      "Enter qty:100\n",
      "Enter expiry:JUL 22\n"
     ]
    }
   ],
   "source": [
    "while len(products)<max_item:\n",
    "    id=str(1000+len(products)+1)\n",
    "    name=input('Enter product name:')\n",
    "    price=int(input('Enter price:'))\n",
    "    qty=int(input('Enter qty:'))\n",
    "    expiry=input('Enter expiry:')\n",
    "    products.update({id:{'name':name,'price':price,'qty':qty,'expiry':expiry}})"
   ]
  },
  {
   "cell_type": "code",
   "execution_count": 8,
   "metadata": {},
   "outputs": [],
   "source": [
    "r=json.dumps(products)\n",
    "f=open('plist.json','w')\n",
    "f.write(r)\n",
    "f.close()"
   ]
  },
  {
   "cell_type": "code",
   "execution_count": null,
   "metadata": {},
   "outputs": [],
   "source": []
  }
 ],
 "metadata": {
  "kernelspec": {
   "display_name": "Python 3",
   "language": "python",
   "name": "python3"
  },
  "language_info": {
   "codemirror_mode": {
    "name": "ipython",
    "version": 3
   },
   "file_extension": ".py",
   "mimetype": "text/x-python",
   "name": "python",
   "nbconvert_exporter": "python",
   "pygments_lexer": "ipython3",
   "version": "3.8.5"
  }
 },
 "nbformat": 4,
 "nbformat_minor": 4
}
