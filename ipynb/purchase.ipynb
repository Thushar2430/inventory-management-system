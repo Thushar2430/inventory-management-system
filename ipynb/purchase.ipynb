{
 "cells": [
  {
   "cell_type": "code",
   "execution_count": 6,
   "metadata": {},
   "outputs": [],
   "source": [
    "import json\n",
    "from datetime import datetime\n",
    "from os import system,name,sys\n",
    "try:\n",
    "    from tabulate import tabulate\n",
    "except:\n",
    "    system('pip install tabulate')\n",
    "    from tabulate import tabulate"
   ]
  },
  {
   "cell_type": "code",
   "execution_count": 7,
   "metadata": {},
   "outputs": [],
   "source": [
    "f=open('plist.json','r')\n",
    "r=f.read()\n",
    "f.close()"
   ]
  },
  {
   "cell_type": "code",
   "execution_count": 8,
   "metadata": {},
   "outputs": [],
   "source": [
    "products=json.loads(r)"
   ]
  },
  {
   "cell_type": "code",
   "execution_count": 9,
   "metadata": {},
   "outputs": [],
   "source": [
    "keys={i:1000+i for i in range(1,len(products)+1)}"
   ]
  },
  {
   "cell_type": "code",
   "execution_count": 12,
   "metadata": {},
   "outputs": [],
   "source": [
    "def display_p():\n",
    "    print(tabulate({'ID':[i for i in range(1,(len(products)+1))],'Name':[products[i]['name']for i in products],'Price':[products[i]['price']for i in products],'QTY':[products[i]['qty']for i in products],'Expiry':[products[i]['expiry']for i in products]},headers='keys', tablefmt='grid'))"
   ]
  },
  {
   "cell_type": "code",
   "execution_count": 13,
   "metadata": {},
   "outputs": [],
   "source": [
    "def checkout(cart):      \n",
    "    for j in cart:\n",
    "        products[j]['qty']=products[j]['qty']-cart[j]"
   ]
  },
  {
   "cell_type": "code",
   "execution_count": 14,
   "metadata": {},
   "outputs": [],
   "source": [
    "def update(products,fname):\n",
    "    r=json.dumps(products)\n",
    "    f=open(f'{fname}.json','w')\n",
    "    f.write(r)\n",
    "    f.close()"
   ]
  },
  {
   "cell_type": "code",
   "execution_count": 15,
   "metadata": {},
   "outputs": [],
   "source": [
    "cart={}     #to save selected items\n",
    "price=[]    #to calculate total cost\n",
    "qty_list=[] #to calculate total qty\n",
    "sale_list=[]#to check for duplicate items and update qty\n",
    "flag=True"
   ]
  },
  {
   "cell_type": "code",
   "execution_count": 16,
   "metadata": {},
   "outputs": [
    {
     "name": "stdout",
     "output_type": "stream",
     "text": [
      "+------+---------------------------------------------------+---------+-------+----------+\n",
      "|   ID | Name                                              |   Price |   QTY | Expiry   |\n",
      "+======+===================================================+=========+=======+==========+\n",
      "|    1 | Kurkure                                           |      10 |    99 | JUL 22   |\n",
      "+------+---------------------------------------------------+---------+-------+----------+\n",
      "|    2 | Lays                                              |      10 |    98 | JUL 22   |\n",
      "+------+---------------------------------------------------+---------+-------+----------+\n",
      "|    3 | Cheetos                                           |      10 |    97 | JUL 22   |\n",
      "+------+---------------------------------------------------+---------+-------+----------+\n",
      "|    4 | Bingo                                             |      10 |    96 | JUL 22   |\n",
      "+------+---------------------------------------------------+---------+-------+----------+\n",
      "|    5 | Picnic                                            |      10 |    95 | JUL 22   |\n",
      "+------+---------------------------------------------------+---------+-------+----------+\n",
      "|    6 | Parle's                                           |      20 |    94 | JUL 22   |\n",
      "+------+---------------------------------------------------+---------+-------+----------+\n",
      "|    7 | Doritos                                           |      40 |    93 | JUL 22   |\n",
      "+------+---------------------------------------------------+---------+-------+----------+\n",
      "|    8 | Popcorn                                           |     200 |    95 | JUL 22   |\n",
      "+------+---------------------------------------------------+---------+-------+----------+\n",
      "|    9 | Kwality Wall's Party Pack, Strawberry             |      84 |   100 | JUL 22   |\n",
      "+------+---------------------------------------------------+---------+-------+----------+\n",
      "|   10 | Kwality Wall's Shameless Vanilla Tub              |     114 |   100 | JUL 22   |\n",
      "+------+---------------------------------------------------+---------+-------+----------+\n",
      "|   11 | Kwality Wall's Party Pack, Tuity Fruity           |     114 |   100 | JUL 22   |\n",
      "+------+---------------------------------------------------+---------+-------+----------+\n",
      "|   12 | Kwality Wall's Crunchy Butterscotch Tub           |     126 |    96 | JUL 22   |\n",
      "+------+---------------------------------------------------+---------+-------+----------+\n",
      "|   13 | Kwality Wall's Cadbury Crackle Tub                |     239 |   100 | JUL 22   |\n",
      "+------+---------------------------------------------------+---------+-------+----------+\n",
      "|   14 | Kwality Wall's Oreo & Crème Tub                   |     186 |   100 | JUL 22   |\n",
      "+------+---------------------------------------------------+---------+-------+----------+\n",
      "|   15 | Kwality Wall's Dark Divine Chocolate Sensation    |     186 |   100 | JUL 22   |\n",
      "+------+---------------------------------------------------+---------+-------+----------+\n",
      "|   16 | Kwality Wall's Crème Delights Mango Tub           |     126 |   100 | JUL 22   |\n",
      "+------+---------------------------------------------------+---------+-------+----------+\n",
      "|   17 | Kwality Wall's Kulfi Tub                          |     211 |   100 | JUL 22   |\n",
      "+------+---------------------------------------------------+---------+-------+----------+\n",
      "|   18 | Kwality Wall's Party Pack, Mango                  |     114 |   100 | JUL 22   |\n",
      "+------+---------------------------------------------------+---------+-------+----------+\n",
      "|   19 | Kwality Wall's Party Pack, Chocolate              |     114 |   100 | JUL 22   |\n",
      "+------+---------------------------------------------------+---------+-------+----------+\n",
      "|   20 | Kwality Wall's Party Pack, Black Currant          |     114 |   100 | JUL 22   |\n",
      "+------+---------------------------------------------------+---------+-------+----------+\n",
      "|   21 | Kwality Wall's Tender Coconut                     |     169 |   100 | JUL 22   |\n",
      "+------+---------------------------------------------------+---------+-------+----------+\n",
      "|   22 | Kwality Wall's Chokissimo Cornetto                |      60 |   100 | JUL 22   |\n",
      "+------+---------------------------------------------------+---------+-------+----------+\n",
      "|   23 | Havmor Triple Chocolate                           |      59 |   100 | JUL 22   |\n",
      "+------+---------------------------------------------------+---------+-------+----------+\n",
      "|   24 | Kwality Wall's Trixy Cookie Cup                   |      60 |   100 | JUL 22   |\n",
      "+------+---------------------------------------------------+---------+-------+----------+\n",
      "|   25 | Havmor Chocolate Cake Ice Cream                   |     250 |   100 | JUL 22   |\n",
      "+------+---------------------------------------------------+---------+-------+----------+\n",
      "|   26 | Kwality Wall's Oreo & Cream                       |      50 |   100 | JUL 22   |\n",
      "+------+---------------------------------------------------+---------+-------+----------+\n",
      "|   27 | Havmor Kesar Pista Cone Ice Cream                 |      40 |   100 | JUL 22   |\n",
      "+------+---------------------------------------------------+---------+-------+----------+\n",
      "|   28 | Kwality Wall's Magnum Brownie Ice Cream           |      90 |   100 | JUL 22   |\n",
      "+------+---------------------------------------------------+---------+-------+----------+\n",
      "|   29 | Havmor Cookie Cream Ice Cream                     |      50 |    66 | JUL 22   |\n",
      "+------+---------------------------------------------------+---------+-------+----------+\n",
      "|   30 | Havmor Cookiesandwich Chocolate Novelty Ice Cream |      50 |     0 | JUL 22   |\n",
      "+------+---------------------------------------------------+---------+-------+----------+\n",
      "|   31 | Baskin Robbins Alphonso Mango Mega Saver Pack     |     450 |    86 | JUL 22   |\n",
      "+------+---------------------------------------------------+---------+-------+----------+\n",
      "|   32 | Bibimbap                                          |     150 |   100 | JUL 22   |\n",
      "+------+---------------------------------------------------+---------+-------+----------+\n",
      "|   33 | Kimchi                                            |     200 |   100 | JUL 22   |\n",
      "+------+---------------------------------------------------+---------+-------+----------+\n",
      "|   34 | Fried Chicken                                     |     250 |   100 | SEP 21   |\n",
      "+------+---------------------------------------------------+---------+-------+----------+\n",
      "|   35 | French fries                                      |     100 |   100 | JUL 22   |\n",
      "+------+---------------------------------------------------+---------+-------+----------+\n",
      "|   36 | Pizza                                             |     500 |   100 | SEP 21   |\n",
      "+------+---------------------------------------------------+---------+-------+----------+\n",
      "Enter ID:36\n",
      "Enter quantity:4\n",
      "Checkout:Press C\t Continue:Press any key\n",
      "\n",
      "Enter ID:32\n",
      "Enter quantity:5\n",
      "Checkout:Press C\t Continue:Press any key\n",
      "\n",
      "Enter ID:33\n",
      "Enter quantity:5\n",
      "Checkout:Press C\t Continue:Press any key\n",
      "c\n"
     ]
    }
   ],
   "source": [
    "display_p() #displaying table for customer\n",
    "while flag:\n",
    "    k_id=input('Enter ID:')\n",
    "    if (k_id=='') or (int(k_id) not in range(1,len(products)+1)):   #to check for desired input\n",
    "        print('Invalid ID')\n",
    "        break\n",
    "    k_id=int(k_id)\n",
    "    qty=input('Enter quantity:')    \n",
    "    if (qty==''):    #to check for desired input\n",
    "        print('Invalid entry, quantity must be greater than 0')\n",
    "        break\n",
    "    p_id=str(keys[k_id])\n",
    "    qty=int(qty)\n",
    "    for i in sale_list:     #if duplicate item found update qty\n",
    "        if p_id in i:\n",
    "            qty=qty+i[1]\n",
    "    if qty>products[p_id]['qty']:   #to check if the qty entered is greater than qty in inventory\n",
    "        print('Sorry the selected item qty is less than what you have entered')\n",
    "        break\n",
    "    cart.update({p_id:qty})     #to save the entered item's id and qty entered\n",
    "    sale_list.append([p_id,qty,str(datetime.now())[:16]])\n",
    "    x=input('Checkout:Press C\\t Continue:Press any key\\n')\n",
    "    x=x.lower()\n",
    "    if x=='c':\n",
    "        flag=False"
   ]
  },
  {
   "cell_type": "code",
   "execution_count": 17,
   "metadata": {},
   "outputs": [],
   "source": [
    "if len(cart)==0:\n",
    "    print('Check the values and try again, Thankyou')\n",
    "    sys.exit()"
   ]
  },
  {
   "cell_type": "code",
   "execution_count": 18,
   "metadata": {},
   "outputs": [],
   "source": [
    "for i in cart:\n",
    "    pr=products[i]['price']*cart[i]\n",
    "    qty_list.append(cart[i])\n",
    "    price.append(pr)"
   ]
  },
  {
   "cell_type": "code",
   "execution_count": 19,
   "metadata": {},
   "outputs": [
    {
     "name": "stdout",
     "output_type": "stream",
     "text": [
      "+---------+----------+-------+---------+\n",
      "|   Items | Name     |   QTY |   Price |\n",
      "+=========+==========+=======+=========+\n",
      "|       1 | Pizza    |     4 |    2000 |\n",
      "+---------+----------+-------+---------+\n",
      "|       2 | Bibimbap |     5 |     750 |\n",
      "+---------+----------+-------+---------+\n",
      "|       3 | Kimchi   |     5 |    1000 |\n",
      "+---------+----------+-------+---------+\n",
      "+----------------+-------+\n",
      "| Total Products | Price |\n",
      "+----------------+-------+\n",
      "|       14       | 3750  |\n",
      "+----------------+-------+\n",
      "---------------------------------\n",
      "Thankyou For Shopping,Visit Again\n",
      "---------------------------------\n"
     ]
    }
   ],
   "source": [
    "total=sum(price)\n",
    "print(tabulate({'Items':[i for i in range(1,len(cart)+1)],'Name':[products[i]['name']for i in cart],'QTY':[cart[i] for i in cart],'Price':[price[i] for i in range(0,len(cart))]},headers='keys',tablefmt='grid'))\n",
    "print(tabulate({'Total Products':[sum(qty_list)],'Price':[total]},headers='keys',tablefmt='pretty'))\n",
    "print(tabulate([{'Thankyou For Shopping,Visit Again'}]))"
   ]
  },
  {
   "cell_type": "code",
   "execution_count": 20,
   "metadata": {},
   "outputs": [],
   "source": [
    "checkout(cart)      #to update the changes in dictionary\n",
    "update(products,'plist')    #to write the updated dictionary to json file"
   ]
  },
  {
   "cell_type": "code",
   "execution_count": 22,
   "metadata": {},
   "outputs": [],
   "source": [
    "sale_record={}  #sales record dictionary\n",
    "for i in sale_list:\n",
    "    sale_record.update({i[0]:{'name':products[i[0]]['name'],'qty':cart[i[0]],'amount':products[i[0]]['price']*cart[i[0]],'time':i[2]}})\n",
    "\n",
    "update(sale_record,'sales')"
   ]
  },
  {
   "cell_type": "code",
   "execution_count": null,
   "metadata": {},
   "outputs": [],
   "source": []
  }
 ],
 "metadata": {
  "kernelspec": {
   "display_name": "Python 3",
   "language": "python",
   "name": "python3"
  },
  "language_info": {
   "codemirror_mode": {
    "name": "ipython",
    "version": 3
   },
   "file_extension": ".py",
   "mimetype": "text/x-python",
   "name": "python",
   "nbconvert_exporter": "python",
   "pygments_lexer": "ipython3",
   "version": "3.8.5"
  }
 },
 "nbformat": 4,
 "nbformat_minor": 4
}
